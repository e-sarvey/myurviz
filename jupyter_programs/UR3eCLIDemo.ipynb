{
 "cells": [
  {
   "cell_type": "markdown",
   "id": "04b21e59-ebca-4f07-9baf-dc3af10feea4",
   "metadata": {},
   "source": [
    "## MATLAB Arm Visualization Control\n",
    "While ROS has many great packages for robot visualiztion and simulation, we cant use them since we are running ROS in a jupyter notebook which does not have a desktop gui. To get around this and still give everyone a chance to iteract with a simulated robot using ROS, I developed a MATLAB program which launches a virtaul UR3e arm which can be controlled via ROS. It can be run in desktop MATLAB or MATLAB online. In the MATLAB program you will need to change the MQTT client name and pub/sub topics based on your group number.\n",
    "\n",
    "### How it works\n",
    "I created a ROS2 package which launches N versions of a node configured as an action server. It uses parameters to dynamically set MQTT client names, topics, and FollowJointTrajectory and gripper/control namespaces so each node can be linked to a single arm visualization. MQTT is used to connect to the simulation which is outside the ROS network (this is a little bit of a weird roundabout setup but not unheard of to use microcontrollers in ROS systems since they cant run the full thing). Also it means the same FollowJointTrajectory action client which is used to control the arm can be used to control the simulation just by changing the namespace of the action.\n",
    "\n",
    "To get the MATLAB arm simulator function or see the inner workings of the package you can check out the [github repo](https://github.com/e-sarvey/myurviz).\n"
   ]
  },
  {
   "cell_type": "code",
   "execution_count": null,
   "id": "b1b78899-2c94-4c15-afae-3bce3d22c8b2",
   "metadata": {},
   "outputs": [],
   "source": [
    "! ros2 node list # check the nodes availible"
   ]
  },
  {
   "cell_type": "code",
   "execution_count": null,
   "id": "a29ea2ac-be7d-4f1a-b205-7fe8a1c6818f",
   "metadata": {},
   "outputs": [],
   "source": [
    "! ros2 action list # check the actions availible"
   ]
  },
  {
   "cell_type": "markdown",
   "id": "1edd15a2-30bf-4c40-8609-790bc3ad732e",
   "metadata": {},
   "source": [
    "### Sending an action goal to the virtual arm with the terminal\n",
    "To send a goal to the simulated arm, edit the CLI command below for your action server (eg. /simulated_arm_server_N/). You can also change the positions to alter the joint angles. Use the visualization interface to find some angles and build a trajectory to execute!"
   ]
  },
  {
   "cell_type": "code",
   "execution_count": null,
   "id": "3d8d0979-60cc-4194-9d1b-9dec6d040b7d",
   "metadata": {
    "scrolled": true
   },
   "outputs": [],
   "source": [
    "# to move to a single pose [0, -3.1416, 1.5708, -1.5708, 1.0647, 0] over 5 seconds\n",
    "! ros2 action send_goal /simulated_arm_server_N/follow_joint_trajectory \\\n",
    "  control_msgs/action/FollowJointTrajectory \\\n",
    "  \"{trajectory: {joint_names: [\\\"shoulder_pan_joint\\\", \\\"shoulder_lift_joint\\\", \\\"elbow_joint\\\", \\\n",
    "  \\\"wrist_1_joint\\\", \\\"wrist_2_joint\\\", \\\"wrist_3_joint\\\"], \\\n",
    "  points: [{positions: [0, -3.1416, 1.5708, -1.5708, 1.0647, 0], time_from_start: {sec: 5, nanosec: 0.0}}]}, \\\n",
    "  goal_tolerance: [{name: \\\"shoulder_pan_joint\\\", position: 0.05}, \\\n",
    "  {name: \\\"shoulder_lift_joint\\\", position: 0.05}, {name: \\\"elbow_joint\\\", position: 0.05}, \\\n",
    "  {name: \\\"wrist_1_joint\\\", position: 0.05}, {name: \\\"wrist_2_joint\\\", position: 0.05}, \\\n",
    "  {name: \\\"wrist_3_joint\\\", position: 0.05}], \\\n",
    "  goal_time_tolerance: {sec: 1, nanosec: 0}}\" ;"
   ]
  },
  {
   "cell_type": "code",
   "execution_count": null,
   "id": "39fc5284-92f1-492b-a0bd-600fe977da7c",
   "metadata": {
    "scrolled": true
   },
   "outputs": [],
   "source": [
    "# Move along trajectory to pickup location\n",
    "! ros2 action send_goal /simulated_arm_server_1/follow_joint_trajectory \\\n",
    "  control_msgs/action/FollowJointTrajectory \\\n",
    "  \"{trajectory: {joint_names: [\\\"shoulder_pan_joint\\\", \\\"shoulder_lift_joint\\\", \\\"elbow_joint\\\", \\\n",
    "  \\\"wrist_1_joint\\\", \\\"wrist_2_joint\\\", \\\"wrist_3_joint\\\"], \\\n",
    "  points: [{positions: [-1.0996, -2.0595, -0.76794, -1.8675, 1.6057, 0.29671], time_from_start: {sec: 5, nanosec: 0}}, \\\n",
    "           {positions: [-1.1519, -2.0944, -1.7802, -0.80285, 1.5882, 1.885], time_from_start: {sec: 10, nanosec: 0}}]}, \\\n",
    "  goal_tolerance: [{name: \\\"shoulder_pan_joint\\\", position: 0.05}, \\\n",
    "                   {name: \\\"shoulder_lift_joint\\\", position: 0.05}, \\\n",
    "                   {name: \\\"elbow_joint\\\", position: 0.05}, \\\n",
    "                   {name: \\\"wrist_1_joint\\\", position: 0.05}, \\\n",
    "                   {name: \\\"wrist_2_joint\\\", position: 0.05}, \\\n",
    "                   {name: \\\"wrist_3_joint\\\", position: 0.05}], \\\n",
    "  goal_time_tolerance: {sec: 1, nanosec: 0}}\""
   ]
  },
  {
   "cell_type": "code",
   "execution_count": null,
   "id": "2e670c1e-2cd5-4f65-a8b0-72990d0789a0",
   "metadata": {
    "scrolled": true
   },
   "outputs": [],
   "source": [
    "# to move along a trajectory:\n",
    "! ros2 action send_goal /simulated_arm_server_1/follow_joint_trajectory \\\n",
    "  control_msgs/action/FollowJointTrajectory \\\n",
    "  \"{trajectory: {joint_names: [\\\"shoulder_pan_joint\\\", \\\"shoulder_lift_joint\\\", \\\"elbow_joint\\\", \\\n",
    "  \\\"wrist_1_joint\\\", \\\"wrist_2_joint\\\", \\\"wrist_3_joint\\\"], \\\n",
    "  points: [ \\\n",
    "    {positions: [0.0, 0.1, 0.2, -0.1, -0.2, 0.0], time_from_start: {sec: 4, nanosec: 0}}, \\\n",
    "    {positions: [0.1, 0.0, 0.1, 0.1, 0.0, 0.1], time_from_start: {sec: 8, nanosec: 0}}, \\\n",
    "    {positions: [-0.1, 0.1, 0.0, -0.1, 0.2, -0.2], time_from_start: {sec: 12, nanosec: 0}}]}, \\\n",
    "  goal_tolerance: [ \\\n",
    "    {name: \\\"shoulder_pan_joint\\\", position: 0.05}, \\\n",
    "    {name: \\\"shoulder_lift_joint\\\", position: 0.05}, \\\n",
    "    {name: \\\"elbow_joint\\\", position: 0.05}, \\\n",
    "    {name: \\\"wrist_1_joint\\\", position: 0.05}, \\\n",
    "    {name: \\\"wrist_2_joint\\\", position: 0.05}, \\\n",
    "    {name: \\\"wrist_3_joint\\\", position: 0.05}], \\\n",
    "  goal_time_tolerance: {sec: 1, nanosec: 0}}\""
   ]
  },
  {
   "cell_type": "markdown",
   "id": "311aafb3-5c98-4f57-bc39-dc47c6102f14",
   "metadata": {
    "scrolled": true
   },
   "source": [
    "### Publishing a gripper control message\n",
    "The gripper is controlled using a simple publisher (this means no feedback!). The command below shows how you can send a new control message. The values in the message are 32 bit ints (0-255) gripper distance, speed, and force. For the vizualization force doesnt do anything. "
   ]
  },
  {
   "cell_type": "code",
   "execution_count": null,
   "id": "a0ce191c-992f-4430-977d-1aa53f5d3788",
   "metadata": {},
   "outputs": [],
   "source": [
    "! ros2 topic pub -1 /simulated_arm_serverN/gripper/control \\\n",
    "std_msgs/msg/Int32MultiArray \\\n",
    "\"{data: [255, 127, 127]}\""
   ]
  },
  {
   "cell_type": "markdown",
   "id": "e7b4c6d0-8dfa-4f4b-a2f5-b93d9086b86f",
   "metadata": {},
   "source": [
    "### Sending action goals with Python\n",
    "Now try writing a python function using rclpy that sends this action goal to the simulated arm server node using the action client follow_joint_trajectory. Try combining this with the publishing code from the previous page to also control the gripper!"
   ]
  },
  {
   "cell_type": "code",
   "execution_count": null,
   "id": "73b86160-aa62-4126-9861-1f11994fcce6",
   "metadata": {},
   "outputs": [],
   "source": [
    "import rclpy  # Import the ROS 2 Python client library\n",
    "from rclpy.action import ActionClient  # For interacting with action servers\n",
    "from rclpy.node import Node  # Base class for creating nodes\n",
    "from control_msgs.action import FollowJointTrajectory  # Action type used in the goal\n",
    "from trajectory_msgs.msg import JointTrajectoryPoint  # Message type for trajectory points\n",
    "\n",
    "class TrajectoryActionClient(Node):\n",
    "    def __init__(self):\n",
    "        # Initialize the node with a name\n",
    "        super().__init__('Node_Name')\n",
    "        \n",
    "        # Create an ActionClient for sending goals to the action server\n",
    "        self._action_client = ActionClient(\n",
    "            self, \n",
    "            FollowJointTrajectory, \n",
    "            '/simulated_arm_server_1/follow_joint_trajectory'\n",
    "        )\n",
    "\n",
    "    def send_goal(self):\n",
    "        # Create a goal message for the FollowJointTrajectory action\n",
    "        goal_msg = FollowJointTrajectory.Goal()\n",
    "    \n",
    "        # Specify the joint names for the robot's arm (these are standard for FollowJointTrajectory)\n",
    "        goal_msg.trajectory.joint_names = [\n",
    "            'shoulder_pan_joint', 'shoulder_lift_joint', 'elbow_joint',\n",
    "            'wrist_1_joint', 'wrist_2_joint', 'wrist_3_joint'\n",
    "        ]\n",
    "        \n",
    "        # Create a JointTrajectoryPoint and set positions for each joint\n",
    "        point = JointTrajectoryPoint()\n",
    "        # IMPORTANT: Follow Joint Trajectory is set up to enable an input trajectory of joint angles but the simulation has not been tested. \n",
    "        # This means you should stick with sending one set of angles at a time although you can call the function several times to achieve trajectory control.\n",
    "        # or you can try it and let me know how it works...\n",
    "        point.positions = [0.0, 0.0, 0.0, 0.0, 0.0, 0.0] # what if points were an input to the function?\n",
    "        \n",
    "        goal_msg.trajectory.points = [point]\n",
    "        # Wait until the action server is available before sending the goal\n",
    "        self._action_client.wait_for_server()\n",
    "\n",
    "        # Send the goal and register a future callback to handle the response\n",
    "        self._send_goal_future = self._action_client.send_goal_async(goal_msg)\n",
    "        self._send_goal_future.add_done_callback(self.goal_response_callback)\n",
    "\n",
    "    def goal_response_callback(self, future):\n",
    "        # Handle the response from the action server\n",
    "        goal_handle = future.result()\n",
    "        \n",
    "        # Check if the goal was accepted or rejected\n",
    "        if not goal_handle.accepted:\n",
    "            self.get_logger().info('Goal rejected :(')\n",
    "            return\n",
    "        \n",
    "        self.get_logger().info('Goal accepted :)')\n",
    "\n",
    "        # Register a callback to check when the result is available\n",
    "        self._get_result_future = goal_handle.get_result_async()\n",
    "        self._get_result_future.add_done_callback(self.get_result_callback)\n",
    "\n",
    "    def get_result_callback(self, future):\n",
    "        # Handle the result of the action\n",
    "        result = future.result().result\n",
    "        self.get_logger().info(f'Action completed with result: {result}')\n",
    "        rclpy.shutdown()  # Shutdown the node once the result is processed\n",
    "\n",
    "def main(args=None):\n",
    "    # Initialize the rclpy library\n",
    "    rclpy.init(args=args)\n",
    "\n",
    "    # Create the action client node\n",
    "    action_client = TrajectoryActionClient()\n",
    "\n",
    "    # Send the goal\n",
    "    action_client.send_goal()\n",
    "\n",
    "    # Spin the node so it can process events (like receiving action results)\n",
    "    rclpy.spin(action_client)\n",
    "\n",
    "if __name__ == '__main__':\n",
    "    main()\n"
   ]
  },
  {
   "cell_type": "markdown",
   "id": "cdecea36-bdf3-4a7d-ae86-1bf4001858a6",
   "metadata": {},
   "source": [
    "### Sending an action goal to the real arm\n",
    "The command below can be used to control the real arm! It might look familiar... thats because it uses the same Follow Joint Trajectory action with the /scaled_joint_trajectory_controller/ namespace which indicates it is communicating with the UR arm driver. This means you could test out angles or a trajectory in the simulation and test it on the real arm by changing just a few lines of code, highlighting the modularity of ROS! Note: a bunch of other input parameters are included in this command as a (json dictionary) what are they? What do they do? Why might they be necessary for a real arm but not the simulated arm?"
   ]
  },
  {
   "cell_type": "code",
   "execution_count": null,
   "id": "faa14888-8012-4927-9f9c-a93e4f249cbc",
   "metadata": {},
   "outputs": [],
   "source": [
    "! ros2 action send_goal /scaled_joint_trajectory_controller/follow_joint_trajectory \\\n",
    "  control_msgs/action/FollowJointTrajectory \\\n",
    "  \"{trajectory: {joint_names: [\\\"shoulder_pan_joint\\\", \\\"shoulder_lift_joint\\\", \\\"elbow_joint\\\", \\\n",
    "  \\\"wrist_1_joint\\\", \\\"wrist_2_joint\\\", \\\"wrist_3_joint\\\"], \\\n",
    "  points: [ \\\n",
    "    {positions: [-1.1519, -1.7453, -0.57596, -2.2689, 1.5882, 1.885], time_from_start: {sec: 5, nanosec: 0}}, \\\n",
    "    {positions: [-0.89012, -1.8326, 1.1868, 0.66323, 2.1991, 1.9199], time_from_start: {sec: 15, nanosec: 0}}, \\\n",
    "    {positions: [-1.6406, -1.0821, 0.97738, 0.17453, 1.4137, 3.194], time_from_start: {sec: 20, nanosec: 0}}]}, \\\n",
    "  goal_tolerance: [ \\\n",
    "    {name: \\\"shoulder_pan_joint\\\", position: 0.05}, \\\n",
    "    {name: \\\"shoulder_lift_joint\\\", position: 0.05}, \\\n",
    "    {name: \\\"elbow_joint\\\", position: 0.05}, \\\n",
    "    {name: \\\"wrist_1_joint\\\", position: 0.05}, \\\n",
    "    {name: \\\"wrist_2_joint\\\", position: 0.05}, \\\n",
    "    {name: \\\"wrist_3_joint\\\", position: 0.05}], \\\n",
    "  goal_time_tolerance: {sec: 1, nanosec: 0}}\""
   ]
  },
  {
   "cell_type": "markdown",
   "id": "5d5ad3d9-9b8d-40f0-80b7-a7f32367c1e4",
   "metadata": {},
   "source": [
    "### Controlling the real gripper\n",
    "Just like with the real arm, the real gripper is controlled very similarly to the visualization just with a small change to the namespace -- namely, that it uses the global namespace /gripper/control."
   ]
  },
  {
   "cell_type": "code",
   "execution_count": null,
   "id": "76823c10-1b3a-4693-92b8-206383cd3bd1",
   "metadata": {},
   "outputs": [],
   "source": [
    "! ros2 topic pub -1 gripper/control \\\n",
    "std_msgs/msg/Int32MultiArray \\\n",
    "\"{data: [255, 127, 127]}\""
   ]
  }
 ],
 "metadata": {
  "kernelspec": {
   "display_name": "Python [conda env:base] *",
   "language": "python",
   "name": "conda-base-py"
  },
  "language_info": {
   "codemirror_mode": {
    "name": "ipython",
    "version": 3
   },
   "file_extension": ".py",
   "mimetype": "text/x-python",
   "name": "python",
   "nbconvert_exporter": "python",
   "pygments_lexer": "ipython3",
   "version": "3.10.14"
  }
 },
 "nbformat": 4,
 "nbformat_minor": 5
}
